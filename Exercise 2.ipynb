{
 "cells": [
  {
   "cell_type": "code",
   "execution_count": 1,
   "id": "1c397e16",
   "metadata": {},
   "outputs": [],
   "source": [
    "import pandas as pd\n",
    "import numpy as np\n",
    "import matplotlib.pyplot as plt\n",
    "from scipy.optimize import curve_fit\n"
   ]
  },
  {
   "cell_type": "code",
   "execution_count": 2,
   "id": "ca7123be",
   "metadata": {},
   "outputs": [
    {
     "data": {
      "text/html": [
       "<div>\n",
       "<style scoped>\n",
       "    .dataframe tbody tr th:only-of-type {\n",
       "        vertical-align: middle;\n",
       "    }\n",
       "\n",
       "    .dataframe tbody tr th {\n",
       "        vertical-align: top;\n",
       "    }\n",
       "\n",
       "    .dataframe thead th {\n",
       "        text-align: right;\n",
       "    }\n",
       "</style>\n",
       "<table border=\"1\" class=\"dataframe\">\n",
       "  <thead>\n",
       "    <tr style=\"text-align: right;\">\n",
       "      <th></th>\n",
       "      <th>ID</th>\n",
       "      <th>x</th>\n",
       "      <th>y</th>\n",
       "      <th>sy</th>\n",
       "      <th>sx</th>\n",
       "      <th>rhoxy</th>\n",
       "      <th>Unnamed: 6</th>\n",
       "    </tr>\n",
       "  </thead>\n",
       "  <tbody>\n",
       "    <tr>\n",
       "      <th>0</th>\n",
       "      <td>1</td>\n",
       "      <td>201</td>\n",
       "      <td>592</td>\n",
       "      <td>61</td>\n",
       "      <td>9</td>\n",
       "      <td>-0.84</td>\n",
       "      <td>NaN</td>\n",
       "    </tr>\n",
       "    <tr>\n",
       "      <th>1</th>\n",
       "      <td>2</td>\n",
       "      <td>244</td>\n",
       "      <td>401</td>\n",
       "      <td>25</td>\n",
       "      <td>4</td>\n",
       "      <td>0.31</td>\n",
       "      <td>NaN</td>\n",
       "    </tr>\n",
       "    <tr>\n",
       "      <th>2</th>\n",
       "      <td>3</td>\n",
       "      <td>47</td>\n",
       "      <td>583</td>\n",
       "      <td>38</td>\n",
       "      <td>11</td>\n",
       "      <td>0.64</td>\n",
       "      <td>NaN</td>\n",
       "    </tr>\n",
       "    <tr>\n",
       "      <th>3</th>\n",
       "      <td>4</td>\n",
       "      <td>287</td>\n",
       "      <td>402</td>\n",
       "      <td>15</td>\n",
       "      <td>7</td>\n",
       "      <td>-0.27</td>\n",
       "      <td>NaN</td>\n",
       "    </tr>\n",
       "    <tr>\n",
       "      <th>4</th>\n",
       "      <td>5</td>\n",
       "      <td>203</td>\n",
       "      <td>495</td>\n",
       "      <td>21</td>\n",
       "      <td>5</td>\n",
       "      <td>-0.33</td>\n",
       "      <td>NaN</td>\n",
       "    </tr>\n",
       "  </tbody>\n",
       "</table>\n",
       "</div>"
      ],
      "text/plain": [
       "   ID    x    y  sy  sx  rhoxy  Unnamed: 6\n",
       "0   1  201  592  61   9  -0.84         NaN\n",
       "1   2  244  401  25   4   0.31         NaN\n",
       "2   3   47  583  38  11   0.64         NaN\n",
       "3   4  287  402  15   7  -0.27         NaN\n",
       "4   5  203  495  21   5  -0.33         NaN"
      ]
     },
     "execution_count": 2,
     "metadata": {},
     "output_type": "execute_result"
    }
   ],
   "source": [
    "df = pd.read_csv('./table1.csv')\n",
    "df.head()"
   ]
  },
  {
   "cell_type": "code",
   "execution_count": 3,
   "id": "731244fa",
   "metadata": {},
   "outputs": [
    {
     "data": {
      "text/plain": [
       "<ErrorbarContainer object of 3 artists>"
      ]
     },
     "execution_count": 3,
     "metadata": {},
     "output_type": "execute_result"
    },
    {
     "data": {
      "image/png": "[encoded data removed]",
      "text/plain": [
       "<Figure size 432x288 with 1 Axes>"
      ]
     },
     "metadata": {
      "needs_background": "light"
     },
     "output_type": "display_data"
    }
   ],
   "source": [
    "plt.errorbar(df.x, df.y, df.sy,\n",
    "             ls='', marker='o')"
   ]
  },
  {
   "cell_type": "code",
   "execution_count": 6,
   "id": "27b5fb8a",
   "metadata": {},
   "outputs": [],
   "source": [
    "def f(x, m, b):\n",
    "    return m * x + b\n",
    "\n",
    "xdata = df.x.values\n",
    "ydata = df.y.values\n",
    "sigmay = df.sy.values"
   ]
  },
  {
   "cell_type": "code",
   "execution_count": 7,
   "id": "0076f01f",
   "metadata": {},
   "outputs": [],
   "source": [
    "p, cov = curve_fit(\n",
    "    f,\n",
    "    xdata,\n",
    "    ydata,\n",
    "    p0=[1, 0],\n",
    "    sigma=sigmay)\n",
    "std = np.sqrt(np.diag(cov))"
   ]
  },
  {
   "cell_type": "code",
   "execution_count": 11,
   "id": "e1629204",
   "metadata": {},
   "outputs": [
    {
     "data": {
      "text/plain": [
       "Text(97, 173, '(1.08 +/- 0.31) * x + (213.27 +/- 57.77)')"
      ]
     },
     "execution_count": 11,
     "metadata": {},
     "output_type": "execute_result"
    },
    {
     "data": {
      "image/png": "[encoded data removed]",
      "text/plain": [
       "<Figure size 432x288 with 1 Axes>"
      ]
     },
     "metadata": {
      "needs_background": "light"
     },
     "output_type": "display_data"
    }
   ],
   "source": [
    "plt.errorbar(df.x, df.y, df.sy,\n",
    "             ls='', marker='o')\n",
    "x = np.linspace(xdata.min(), xdata.max(), 1000)\n",
    "plt.plot(x, f(x, p[0], p[1]))\n",
    "s = \"(%1.2f +/- %1.2f) * x + (%1.2f +/- %1.2f)\" % (p[0], std[0], p[1], std[1])\n",
    "plt.text(xdata.min() + 50, ydata.min(), s)"
   ]
  },
  {
   "cell_type": "markdown",
   "id": "9ff65b1e",
   "metadata": {},
   "source": [
    "# In lmfit"
   ]
  },
  {
   "cell_type": "code",
   "execution_count": 13,
   "id": "4920a6c6",
   "metadata": {},
   "outputs": [],
   "source": [
    "from lmfit.models import LinearModel\n",
    "model = LinearModel()\n",
    "out = model.fit(df.y.values, x=df.x.values, weights=1/sigmay)"
   ]
  },
  {
   "cell_type": "code",
   "execution_count": 15,
   "id": "23941724",
   "metadata": {},
   "outputs": [
    {
     "data": {
      "text/html": [
       "<h2> Model</h2> Model(linear) <h2>Fit Statistics</h2><table><tr><td>fitting method</td><td>leastsq</td><td></td></tr><tr><td># function evals</td><td>7</td><td></td></tr><tr><td># data points</td><td>20</td><td></td></tr><tr><td># variables</td><td>2</td><td></td></tr><tr><td>chi-square</td><td> 289.963723</td><td></td></tr><tr><td>reduced chi-square</td><td> 16.1090957</td><td></td></tr><tr><td>Akaike info crit.</td><td> 57.4804710</td><td></td></tr><tr><td>Bayesian info crit.</td><td> 59.4719355</td><td></td></tr></table><h2>Variables</h2><table><tr><th> name </th><th> value </th><th> standard error </th><th> relative error </th><th> initial value </th><th> min </th><th> max </th><th> vary </th></tr><tr><td> slope </td><td>  1.07674753 </td><td>  0.31068093 </td><td> (28.85%) </td><td> 1.0 </td><td>        -inf </td><td>         inf </td><td> True </td></tr><tr><td> intercept </td><td>  213.273491 </td><td>  57.7720901 </td><td> (27.09%) </td><td> 0.0 </td><td>        -inf </td><td>         inf </td><td> True </td></tr></table><h2>Correlations (unreported correlations are < 0.100)</h2><table><tr><td>slope</td><td>intercept</td><td>-0.9462</td></tr></table>"
      ],
      "text/plain": [
       "<lmfit.model.ModelResult at 0x245a13a01c0>"
      ]
     },
     "execution_count": 15,
     "metadata": {},
     "output_type": "execute_result"
    }
   ],
   "source": [
    "out"
   ]
  },
  {
   "cell_type": "code",
   "execution_count": 20,
   "id": "4ea93496",
   "metadata": {},
   "outputs": [
    {
     "data": {
      "image/png": "[encoded data removed]",
      "text/plain": [
       "<Figure size 432x432 with 2 Axes>"
      ]
     },
     "metadata": {
      "needs_background": "light"
     },
     "output_type": "display_data"
    }
   ],
   "source": [
    "out.plot();"
   ]
  },
  {
   "cell_type": "code",
   "execution_count": 24,
   "id": "a44aad83",
   "metadata": {},
   "outputs": [
    {
     "data": {
      "text/plain": [
       "Text(127, 173, '(1.08 +/- 0.31) * x + (213.27 +/- 57.77)')"
      ]
     },
     "execution_count": 24,
     "metadata": {},
     "output_type": "execute_result"
    },
    {
     "data": {
      "image/png": "[encoded data removed]",
      "text/plain": [
       "<Figure size 432x288 with 1 Axes>"
      ]
     },
     "metadata": {
      "needs_background": "light"
     },
     "output_type": "display_data"
    }
   ],
   "source": [
    "plt.errorbar(df.x, df.y, df.sy,\n",
    "             ls='', marker='o')\n",
    "x = np.linspace(xdata.min(), xdata.max(), 1000)\n",
    "plt.plot(x, f(x, p[0], p[1]))\n",
    "s = \"(%1.2f +/- %1.2f) * x + (%1.2f +/- %1.2f)\" % (p[0], std[0], p[1], std[1])\n",
    "plt.text(xdata.min()+80, ydata.min(), s)"
   ]
  },
  {
   "cell_type": "code",
   "execution_count": null,
   "id": "cf04b802",
   "metadata": {},
   "outputs": [],
   "source": []
  }
 ],
 "metadata": {
  "kernelspec": {
   "display_name": "Python 3 (ipykernel)",
   "language": "python",
   "name": "python3"
  },
  "language_info": {
   "codemirror_mode": {
    "name": "ipython",
    "version": 3
   },
   "file_extension": ".py",
   "mimetype": "text/x-python",
   "name": "python",
   "nbconvert_exporter": "python",
   "pygments_lexer": "ipython3",
   "version": "3.9.12"
  }
 },
 "nbformat": 4,
 "nbformat_minor": 5
}
